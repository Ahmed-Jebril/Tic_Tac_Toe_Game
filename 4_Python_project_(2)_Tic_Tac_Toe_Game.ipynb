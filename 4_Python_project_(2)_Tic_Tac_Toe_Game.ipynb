{
  "cells": [
    {
      "cell_type": "markdown",
      "metadata": {
        "id": "PhpgbWHJhJOW"
      },
      "source": [
        "# Tic Tac Toe Project Description"
      ]
    },
    {
      "cell_type": "markdown",
      "metadata": {
        "id": "9XJyp9xehPBl"
      },
      "source": [
        " **`(1) Create Empty board (3x3):`**\n",
        "\n",
        "  `1  2  3`\n",
        "\n",
        "  `4 5 6`\n",
        "\n",
        "  `7 8 9`\n",
        "\n",
        " **`(2) Show Board`**\n",
        "\n",
        " **`(3) Set Players Randomly ('X', 'O')`**\n",
        "\n",
        " **`(4) Take Input from Player`**\n",
        "\n",
        " **`(5) Check Full Board >> Draw`**\n",
        "\n",
        " **`(6) Check if Someone wins >> Finish`**"
      ]
    },
    {
      "cell_type": "markdown",
      "metadata": {
        "id": "m2nflmTioFy_"
      },
      "source": [
        "# Template"
      ]
    },
    {
      "cell_type": "markdown",
      "metadata": {
        "id": "GsE-z7Son-xm"
      },
      "source": [
        "## Empty Board"
      ]
    },
    {
      "cell_type": "code",
      "execution_count": null,
      "metadata": {
        "id": "YueCJNtPnndY"
      },
      "outputs": [],
      "source": [
        "def create_empty_board():\n",
        "  pass  "
      ]
    },
    {
      "cell_type": "code",
      "execution_count": null,
      "metadata": {
        "colab": {
          "base_uri": "https://localhost:8080/"
        },
        "id": "RMlzPMyHRIq7",
        "outputId": "beda709c-9c9d-4af5-dcb0-b452a6000739"
      },
      "outputs": [
        {
          "name": "stdout",
          "output_type": "stream",
          "text": [
            "1\t2\t3\t\n",
            "\n",
            "4\t5\t6\t\n",
            "\n",
            "7\t8\t9\t\n",
            "\n"
          ]
        }
      ],
      "source": [
        "create_empty_board()"
      ]
    },
    {
      "cell_type": "markdown",
      "metadata": {
        "id": "qjKBWyq4f3Fr"
      },
      "source": [
        "## Show Board"
      ]
    },
    {
      "cell_type": "code",
      "execution_count": null,
      "metadata": {
        "id": "Bn6VqZo_Xze5"
      },
      "outputs": [],
      "source": [
        "def show_board(board):\n",
        "  pass "
      ]
    },
    {
      "cell_type": "code",
      "execution_count": null,
      "metadata": {
        "colab": {
          "base_uri": "https://localhost:8080/"
        },
        "id": "Z7lIOpFfX3dU",
        "outputId": "2b58a8fe-e788-48c3-d481-8a5006f981ee"
      },
      "outputs": [
        {
          "name": "stdout",
          "output_type": "stream",
          "text": [
            "1\t2\t3\t\n",
            "\n",
            "4\tX\t6\t\n",
            "\n",
            "7\t8\t9\t\n",
            "\n"
          ]
        }
      ],
      "source": [
        "board = [[1,2,3],[4,'X',6],[7,8,9]]\n",
        "show_board(board)"
      ]
    },
    {
      "cell_type": "markdown",
      "metadata": {
        "id": "ZaIwkooboJ5p"
      },
      "source": [
        "## Set Players"
      ]
    },
    {
      "cell_type": "code",
      "execution_count": null,
      "metadata": {
        "id": "we7UkC6AhFwy"
      },
      "outputs": [],
      "source": [
        "def set_players():\n",
        "  pass"
      ]
    },
    {
      "cell_type": "code",
      "execution_count": null,
      "metadata": {
        "colab": {
          "base_uri": "https://localhost:8080/"
        },
        "id": "3A_FDAHLWxNF",
        "outputId": "0642669d-23df-4a78-93b4-c0abe4077368"
      },
      "outputs": [
        {
          "data": {
            "text/plain": [
              "('X', 'O')"
            ]
          },
          "execution_count": 85,
          "metadata": {},
          "output_type": "execute_result"
        }
      ],
      "source": [
        "set_players()"
      ]
    },
    {
      "cell_type": "markdown",
      "metadata": {
        "id": "VNl11PuZgDjc"
      },
      "source": [
        "## Take Input"
      ]
    },
    {
      "cell_type": "code",
      "execution_count": null,
      "metadata": {
        "id": "pZAd299MY2fw"
      },
      "outputs": [],
      "source": [
        "def take_input(board, player):\n",
        "  pass"
      ]
    },
    {
      "cell_type": "code",
      "execution_count": null,
      "metadata": {
        "colab": {
          "base_uri": "https://localhost:8080/"
        },
        "id": "bH2UI4GEcAVp",
        "outputId": "08742b6e-6609-438d-9ccc-00b423ddbcc0"
      },
      "outputs": [
        {
          "name": "stdout",
          "output_type": "stream",
          "text": [
            "Please Enter a number between 1,9 represents an empty position:     5\n",
            "Invalid Choice\n",
            "Please Enter a number between 1,9 represents an empty position:     4\n",
            "1\t2\t3\t\n",
            "\n",
            "O\tX\t6\t\n",
            "\n",
            "7\t8\t9\t\n",
            "\n"
          ]
        }
      ],
      "source": [
        "board = [['1','2','3'],['4','X','6'],['7','8','9']]\n",
        "player ='O'\n",
        "player_input = '8'\n",
        "take_input(board, player)\n"
      ]
    },
    {
      "cell_type": "markdown",
      "metadata": {
        "id": "mgCFF48jgVq7"
      },
      "source": [
        "## Check Full Board"
      ]
    },
    {
      "cell_type": "code",
      "execution_count": null,
      "metadata": {
        "id": "obxUdjg_ThZi"
      },
      "outputs": [],
      "source": [
        "def check_full_board(board):\n",
        "  pass    "
      ]
    },
    {
      "cell_type": "code",
      "execution_count": null,
      "metadata": {
        "colab": {
          "base_uri": "https://localhost:8080/"
        },
        "id": "TcLZt1PqS_9i",
        "outputId": "992284fd-a31c-4644-be32-fbf873c34967"
      },
      "outputs": [
        {
          "data": {
            "text/plain": [
              "True"
            ]
          },
          "execution_count": 89,
          "metadata": {},
          "output_type": "execute_result"
        }
      ],
      "source": [
        "board = [['o','x','x'],['o','X','o'],['x','o','x']]\n",
        "check_full_board(board)"
      ]
    },
    {
      "cell_type": "code",
      "execution_count": null,
      "metadata": {
        "colab": {
          "base_uri": "https://localhost:8080/"
        },
        "id": "s475eihMkEqL",
        "outputId": "b75d126e-dc1b-4788-d3b2-bbe777f2ab67"
      },
      "outputs": [
        {
          "data": {
            "text/plain": [
              "False"
            ]
          },
          "execution_count": 90,
          "metadata": {},
          "output_type": "execute_result"
        }
      ],
      "source": [
        "board = [['o','x','x'],['4','X','o'],['x','o','x']]\n",
        "check_full_board(board)"
      ]
    },
    {
      "cell_type": "markdown",
      "metadata": {
        "id": "OjfyXPCeoQM4"
      },
      "source": [
        "## Check Win\n"
      ]
    },
    {
      "cell_type": "code",
      "execution_count": null,
      "metadata": {
        "id": "NTxJ1qsJmhoG"
      },
      "outputs": [],
      "source": [
        "def check_win(board):\n",
        "  pass"
      ]
    },
    {
      "cell_type": "code",
      "execution_count": null,
      "metadata": {
        "colab": {
          "base_uri": "https://localhost:8080/"
        },
        "id": "E-mETiZEfZqp",
        "outputId": "38586222-6703-4330-bf09-927c732ceb39"
      },
      "outputs": [
        {
          "name": "stdout",
          "output_type": "stream",
          "text": [
            "o\tx\tx\t\n",
            "\n",
            "o\to\tx\t\n",
            "\n",
            "x\to\tx\t\n",
            "\n"
          ]
        },
        {
          "data": {
            "text/plain": [
              "True"
            ]
          },
          "execution_count": 92,
          "metadata": {},
          "output_type": "execute_result"
        }
      ],
      "source": [
        "board = [['o','x','x'],['o','o','x'],['x','o','x']]\n",
        "show_board(board)\n",
        "check_win(board)"
      ]
    },
    {
      "cell_type": "code",
      "execution_count": null,
      "metadata": {
        "colab": {
          "base_uri": "https://localhost:8080/"
        },
        "id": "CmlQlsjZkIut",
        "outputId": "2d81b488-ba7e-43d5-aafc-4c498c60af89"
      },
      "outputs": [
        {
          "name": "stdout",
          "output_type": "stream",
          "text": [
            "o\tx\to\t\n",
            "\n",
            "o\to\tx\t\n",
            "\n",
            "x\to\tx\t\n",
            "\n"
          ]
        },
        {
          "data": {
            "text/plain": [
              "False"
            ]
          },
          "execution_count": 93,
          "metadata": {},
          "output_type": "execute_result"
        }
      ],
      "source": [
        "board = [['o','x','o'],['o','o','x'],['x','o','x']]\n",
        "show_board(board)\n",
        "check_win(board)"
      ]
    },
    {
      "cell_type": "markdown",
      "metadata": {
        "id": "uI9u-XGV2S7P"
      },
      "source": [
        "## Let's Play"
      ]
    },
    {
      "cell_type": "code",
      "execution_count": null,
      "metadata": {
        "id": "4nIAPOhSpksM"
      },
      "outputs": [],
      "source": [
        "def play():\n",
        "  pass"
      ]
    },
    {
      "cell_type": "code",
      "execution_count": null,
      "metadata": {
        "colab": {
          "base_uri": "https://localhost:8080/"
        },
        "id": "7m9ENdZp1Ffg",
        "outputId": "e7a3a9c4-b747-4d8f-ea5b-0c49602b7a1a"
      },
      "outputs": [
        {
          "name": "stdout",
          "output_type": "stream",
          "text": [
            "Player1 :   O\n",
            "Player2 :   X \n",
            "\n",
            "1\t2\t3\t\n",
            "\n",
            "4\t5\t6\t\n",
            "\n",
            "7\t8\t9\t\n",
            "\n",
            "O turn\n",
            "Please Enter a number between 1,9 represents an empty position:     2\n",
            "1\tO\t3\t\n",
            "\n",
            "4\t5\t6\t\n",
            "\n",
            "7\t8\t9\t\n",
            "\n",
            "X turn\n",
            "Please Enter a number between 1,9 represents an empty position:     5\n",
            "1\tO\t3\t\n",
            "\n",
            "4\tX\t6\t\n",
            "\n",
            "7\t8\t9\t\n",
            "\n",
            "O turn\n",
            "Please Enter a number between 1,9 represents an empty position:     1\n",
            "O\tO\t3\t\n",
            "\n",
            "4\tX\t6\t\n",
            "\n",
            "7\t8\t9\t\n",
            "\n",
            "X turn\n",
            "Please Enter a number between 1,9 represents an empty position:     3\n",
            "O\tO\tX\t\n",
            "\n",
            "4\tX\t6\t\n",
            "\n",
            "7\t8\t9\t\n",
            "\n",
            "O turn\n",
            "Please Enter a number between 1,9 represents an empty position:     9\n",
            "O\tO\tX\t\n",
            "\n",
            "4\tX\t6\t\n",
            "\n",
            "7\t8\tO\t\n",
            "\n",
            "X turn\n",
            "Please Enter a number between 1,9 represents an empty position:     4\n",
            "O\tO\tX\t\n",
            "\n",
            "X\tX\t6\t\n",
            "\n",
            "7\t8\tO\t\n",
            "\n",
            "O turn\n",
            "Please Enter a number between 1,9 represents an empty position:     6\n",
            "O\tO\tX\t\n",
            "\n",
            "X\tX\tO\t\n",
            "\n",
            "7\t8\tO\t\n",
            "\n",
            "X turn\n",
            "Please Enter a number between 1,9 represents an empty position:     8\n",
            "O\tO\tX\t\n",
            "\n",
            "X\tX\tO\t\n",
            "\n",
            "7\tX\tO\t\n",
            "\n",
            "O turn\n",
            "Please Enter a number between 1,9 represents an empty position:     7\n",
            "O\tO\tX\t\n",
            "\n",
            "X\tX\tO\t\n",
            "\n",
            "O\tX\tO\t\n",
            "\n",
            "Game Finished. Draw!\n"
          ]
        }
      ],
      "source": [
        "play()"
      ]
    },
    {
      "cell_type": "code",
      "execution_count": null,
      "metadata": {
        "id": "O911u9mL3Akr"
      },
      "outputs": [],
      "source": [
        "def create_empty_board():\n",
        "  board = ['1','2','3','4','5','6','7','8','9']\n",
        "  print(board[0],'    ',board[1],'    ',board[2])\n",
        "  print(board[3],'    ',board[4],'    ',board[5])\n",
        "  print(board[6],'    ',board[7],'    ',board[8])"
      ]
    },
    {
      "cell_type": "code",
      "execution_count": null,
      "metadata": {
        "colab": {
          "base_uri": "https://localhost:8080/"
        },
        "id": "9lOVZHuxOYah",
        "outputId": "770edc7f-5df2-4d49-bfbb-ef707e7bbc60"
      },
      "outputs": [
        {
          "output_type": "stream",
          "name": "stdout",
          "text": [
            "1      2      3\n",
            "4      5      6\n",
            "7      8      9\n"
          ]
        }
      ],
      "source": [
        "create_empty_board()"
      ]
    },
    {
      "cell_type": "code",
      "execution_count": null,
      "metadata": {
        "id": "dldt-hPjOdFe"
      },
      "outputs": [],
      "source": [
        "def show_board(board):\n",
        "  print(board[0],'    ',board[1],'    ',board[2])\n",
        "  print(board[3],'    ',board[4],'    ',board[5])\n",
        "  print(board[6],'    ',board[7],'    ',board[8])"
      ]
    },
    {
      "cell_type": "code",
      "execution_count": null,
      "metadata": {
        "colab": {
          "base_uri": "https://localhost:8080/"
        },
        "id": "UKD7Yb8wRMtB",
        "outputId": "cb61efd1-db9d-441a-ce5b-ecfa120d7e43"
      },
      "outputs": [
        {
          "output_type": "stream",
          "name": "stdout",
          "text": [
            "1      2      3\n",
            "4      5      6\n",
            "7      8      9\n"
          ]
        }
      ],
      "source": [
        "board = ['1','2','3','4','5','6','7','8','9']\n",
        "show_board(board)"
      ]
    },
    {
      "cell_type": "code",
      "execution_count": null,
      "metadata": {
        "id": "SieCeDNzRUNm"
      },
      "outputs": [],
      "source": [
        "def set_players():\n",
        "  from random import randint\n",
        "  player_1= ['x','o'][randint(0,1)]\n",
        "  if player_1== 'x':\n",
        "    player_2 = 'o'\n",
        "  else:\n",
        "    player_2 = 'x'\n",
        "  print('Player 1 is ',player_1,', Player 2 is ',player_2)"
      ]
    },
    {
      "cell_type": "code",
      "execution_count": null,
      "metadata": {
        "id": "fDnkNE03RtWh"
      },
      "outputs": [],
      "source": [
        "def take_input(board):\n",
        "  turn = 'x'\n",
        "  for i in range(1,10):\n",
        "    print(turn, ' turn')\n",
        "    \n",
        "    \n",
        "    move = input('Please Enter a number between 1,9 represents an empty position: ')\n",
        "    i = board.index(move)\n",
        "    board[i] = turn\n",
        "\n",
        "    if check_win(board):\n",
        "          print(turn, \" wins\")\n",
        "          break\n",
        "    if check_full_board(board):\n",
        "          print('Game Finished. Draw!')\n",
        "          break\n",
        "\n",
        "    if turn== 'x':\n",
        "      turn = 'o'\n",
        "    else:\n",
        "      turn = 'x'\n",
        "    \n",
        "    \n",
        "    show_board(board)"
      ]
    },
    {
      "cell_type": "code",
      "source": [
        "def check_win(board):\n",
        "  return  board[0] == board[1] == board[2] or \\\n",
        "          board[3] == board[4] == board[5] or \\\n",
        "          board[6] == board[7] == board[8] or \\\n",
        "          board[0] == board[3] == board[6] or \\\n",
        "          board[1] == board[4] == board[7] or \\\n",
        "          board[2] == board[5] == board[8] or \\\n",
        "          board[0] == board[4] == board[8] or \\\n",
        "          board[2] == board[4] == board[6]"
      ],
      "metadata": {
        "id": "MXTfAy_6NsMu"
      },
      "execution_count": null,
      "outputs": []
    },
    {
      "cell_type": "code",
      "source": [
        "def check_full_board(board):\n",
        "  for i in board:\n",
        "    if i.isdigit():\n",
        "        return False\n",
        "  \n",
        "  return True"
      ],
      "metadata": {
        "id": "GmCO7IzYNh_E"
      },
      "execution_count": null,
      "outputs": []
    },
    {
      "cell_type": "code",
      "execution_count": null,
      "metadata": {
        "id": "EsttmNJg3uuF"
      },
      "outputs": [],
      "source": [
        "def play():\n",
        "  set_players()\n",
        "  create_empty_board()\n",
        "  take_input(board)\n",
        "\n",
        "        "
      ]
    },
    {
      "cell_type": "code",
      "source": [
        "play()"
      ],
      "metadata": {
        "colab": {
          "base_uri": "https://localhost:8080/"
        },
        "id": "aGCFwHnh5LQk",
        "outputId": "1c688190-6135-44f6-ffb0-34570af03a83"
      },
      "execution_count": null,
      "outputs": [
        {
          "output_type": "stream",
          "name": "stdout",
          "text": [
            "Player 1 is  x , Player 2 is  o\n",
            "1      2      3\n",
            "4      5      6\n",
            "7      8      9\n",
            "x  turn\n",
            "Please Enter a number between 1,9 represents an empty position: 1\n",
            "x      2      3\n",
            "4      5      6\n",
            "7      8      9\n",
            "o  turn\n",
            "Please Enter a number between 1,9 represents an empty position: 2\n",
            "x      o      3\n",
            "4      5      6\n",
            "7      8      9\n",
            "x  turn\n",
            "Please Enter a number between 1,9 represents an empty position: 3\n",
            "x      o      x\n",
            "4      5      6\n",
            "7      8      9\n",
            "o  turn\n",
            "Please Enter a number between 1,9 represents an empty position: 4\n",
            "x      o      x\n",
            "o      5      6\n",
            "7      8      9\n",
            "x  turn\n",
            "Please Enter a number between 1,9 represents an empty position: 5\n",
            "x      o      x\n",
            "o      x      6\n",
            "7      8      9\n",
            "o  turn\n",
            "Please Enter a number between 1,9 represents an empty position: 7\n",
            "x      o      x\n",
            "o      x      6\n",
            "o      8      9\n",
            "x  turn\n",
            "Please Enter a number between 1,9 represents an empty position: 6\n",
            "x      o      x\n",
            "o      x      x\n",
            "o      8      9\n",
            "o  turn\n",
            "Please Enter a number between 1,9 represents an empty position: 9\n",
            "x      o      x\n",
            "o      x      x\n",
            "o      8      o\n",
            "x  turn\n",
            "Please Enter a number between 1,9 represents an empty position: 8\n",
            "Game Finished. Draw!\n"
          ]
        }
      ]
    },
    {
      "cell_type": "code",
      "source": [
        "\n"
      ],
      "metadata": {
        "id": "alBW_P_U5P8H"
      },
      "execution_count": null,
      "outputs": []
    }
  ],
  "metadata": {
    "colab": {
      "provenance": []
    },
    "kernelspec": {
      "display_name": "Python 3",
      "name": "python3"
    },
    "language_info": {
      "name": "python"
    }
  },
  "nbformat": 4,
  "nbformat_minor": 0
}